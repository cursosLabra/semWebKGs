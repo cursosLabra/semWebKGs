{
  "nbformat": 4,
  "nbformat_minor": 0,
  "metadata": {
    "colab": {
      "provenance": [],
      "authorship_tag": "ABX9TyP9ZLV9tFU28TRG0o8eeJJl",
      "include_colab_link": true
    },
    "kernelspec": {
      "name": "python3",
      "display_name": "Python 3"
    },
    "language_info": {
      "name": "python"
    }
  },
  "cells": [
    {
      "cell_type": "markdown",
      "metadata": {
        "id": "view-in-github",
        "colab_type": "text"
      },
      "source": [
        "<a href=\"https://colab.research.google.com/github/cursosLabra/semWebKGs/blob/main/rdflib.ipynb\" target=\"_parent\"><img src=\"https://colab.research.google.com/assets/colab-badge.svg\" alt=\"Open In Colab\"/></a>"
      ]
    },
    {
      "cell_type": "markdown",
      "source": [
        "Instalar librería rdflib"
      ],
      "metadata": {
        "id": "zldzEGeeChTK"
      }
    },
    {
      "cell_type": "code",
      "execution_count": 1,
      "metadata": {
        "colab": {
          "base_uri": "https://localhost:8080/"
        },
        "id": "0fRGQHRnB50E",
        "outputId": "0d32e1b8-8d37-4cbe-9d50-abbb9924d3e1"
      },
      "outputs": [
        {
          "output_type": "stream",
          "name": "stdout",
          "text": [
            "Looking in indexes: https://pypi.org/simple, https://us-python.pkg.dev/colab-wheels/public/simple/\n",
            "Collecting rdflib\n",
            "  Downloading rdflib-6.3.2-py3-none-any.whl (528 kB)\n",
            "\u001b[2K     \u001b[90m━━━━━━━━━━━━━━━━━━━━━━━━━━━━━━━━━━━━━━━\u001b[0m \u001b[32m528.1/528.1 kB\u001b[0m \u001b[31m8.8 MB/s\u001b[0m eta \u001b[36m0:00:00\u001b[0m\n",
            "\u001b[?25hCollecting isodate<0.7.0,>=0.6.0 (from rdflib)\n",
            "  Downloading isodate-0.6.1-py2.py3-none-any.whl (41 kB)\n",
            "\u001b[2K     \u001b[90m━━━━━━━━━━━━━━━━━━━━━━━━━━━━━━━━━━━━━━━━\u001b[0m \u001b[32m41.7/41.7 kB\u001b[0m \u001b[31m2.8 MB/s\u001b[0m eta \u001b[36m0:00:00\u001b[0m\n",
            "\u001b[?25hRequirement already satisfied: pyparsing<4,>=2.1.0 in /usr/local/lib/python3.10/dist-packages (from rdflib) (3.0.9)\n",
            "Requirement already satisfied: six in /usr/local/lib/python3.10/dist-packages (from isodate<0.7.0,>=0.6.0->rdflib) (1.16.0)\n",
            "Installing collected packages: isodate, rdflib\n",
            "Successfully installed isodate-0.6.1 rdflib-6.3.2\n"
          ]
        }
      ],
      "source": [
        "!pip install rdflib"
      ]
    },
    {
      "cell_type": "code",
      "source": [
        "from rdflib import Graph"
      ],
      "metadata": {
        "id": "HH6ynQnyCmIM"
      },
      "execution_count": 2,
      "outputs": []
    },
    {
      "cell_type": "code",
      "source": [
        "g = Graph()"
      ],
      "metadata": {
        "id": "I-N-TIFIDLCB"
      },
      "execution_count": 3,
      "outputs": []
    },
    {
      "cell_type": "code",
      "source": [
        "g.parse(\"http://www.w3.org/People/Berners-Lee/card\")"
      ],
      "metadata": {
        "colab": {
          "base_uri": "https://localhost:8080/"
        },
        "id": "5uJPtI2vDNm5",
        "outputId": "d3d69189-9f43-4107-8fb1-7709d04fff87"
      },
      "execution_count": 4,
      "outputs": [
        {
          "output_type": "execute_result",
          "data": {
            "text/plain": [
              "<Graph identifier=Nd1c1436016c3431d9c7f13b64273f0c7 (<class 'rdflib.graph.Graph'>)>"
            ]
          },
          "metadata": {},
          "execution_count": 4
        }
      ]
    },
    {
      "cell_type": "code",
      "source": [
        "for s,p,o in g:\n",
        "  print(f\"Triple: <{s}, {p}, {o}>\") "
      ],
      "metadata": {
        "colab": {
          "base_uri": "https://localhost:8080/"
        },
        "id": "cnxPNymODh_z",
        "outputId": "667b5ab9-a505-4350-9565-2b9d2ce1e0f2"
      },
      "execution_count": 8,
      "outputs": [
        {
          "output_type": "stream",
          "name": "stdout",
          "text": [
            "Triple: <n2eca384deedd4a268eddb4a71b557079b4, http://www.w3.org/2003/01/geo/wgs84_pos#long, -71.091840>\n",
            "Triple: <https://www.w3.org/People/Berners-Lee/card#i, http://xmlns.com/foaf/0.1/title, Sir>\n",
            "Triple: <https://www.w3.org/People/Berners-Lee/card#i, http://www.w3.org/2000/01/rdf-schema#seeAlso, https://timbl.com/timbl/Public/friends.ttl>\n",
            "Triple: <n2eca384deedd4a268eddb4a71b557079b2, http://www.w3.org/2003/01/geo/wgs84_pos#location, n2eca384deedd4a268eddb4a71b557079b4>\n",
            "Triple: <https://www.w3.org/People/Berners-Lee/card#i, http://xmlns.com/foaf/0.1/based_near, n2eca384deedd4a268eddb4a71b557079b6>\n",
            "Triple: <https://www.w3.org/People/Berners-Lee/card#i, http://www.w3.org/ns/solid/terms#profileBackgroundColor, #ffffff>\n",
            "Triple: <n2eca384deedd4a268eddb4a71b557079b5, http://www.w3.org/2006/vcard/ns#locality, Cambridge>\n",
            "Triple: <https://www.w3.org/DesignIssues/Overview.html, http://purl.org/dc/elements/1.1/title, Design Issues for the World Wide Web>\n",
            "Triple: <http://www.w3.org/2011/Talks/0331-hyderabad-tbl/data#talk, http://xmlns.com/foaf/0.1/maker, https://www.w3.org/People/Berners-Lee/card#i>\n",
            "Triple: <http://dig.csail.mit.edu/2007/01/camp/data#course, http://xmlns.com/foaf/0.1/maker, https://www.w3.org/People/Berners-Lee/card#i>\n",
            "Triple: <http://www.ecs.soton.ac.uk/~dt2/dlstuff/www2006_data#panel-panelk01, http://www.w3.org/2000/10/swap/pim/contact#participant, https://www.w3.org/People/Berners-Lee/card#i>\n",
            "Triple: <https://www.w3.org/People/Berners-Lee/card#i, http://xmlns.com/foaf/0.1/openid, https://www.w3.org/People/Berners-Lee/>\n",
            "Triple: <n2eca384deedd4a268eddb4a71b557079b3, http://www.w3.org/2000/10/swap/pim/contact#postalCode, 02139>\n",
            "Triple: <http://wiki.ontoworld.org/index.php/_IRW2006, http://www.w3.org/2000/10/swap/pim/contact#participant, https://www.w3.org/People/Berners-Lee/card#i>\n",
            "Triple: <https://www.w3.org/People/Berners-Lee/card#i, http://xmlns.com/foaf/0.1/workplaceHomepage, https://www.w3.org/>\n",
            "Triple: <https://timbl.com/timbl/Public/friends.ttl, http://purl.org/dc/elements/1.1/title, Tim Berners-Lee's editable profile>\n",
            "Triple: <https://www.w3.org/People/Berners-Lee/card#i, http://xmlns.com/foaf/0.1/account, http://www.reddit.com/user/timbl/>\n",
            "Triple: <n2eca384deedd4a268eddb4a71b557079b3, http://www.w3.org/2000/10/swap/pim/contact#street2, MIT CSAIL Building 32>\n",
            "Triple: <n2eca384deedd4a268eddb4a71b557079b4, http://www.w3.org/2003/01/geo/wgs84_pos#lat, 42.361860>\n",
            "Triple: <n2eca384deedd4a268eddb4a71b557079b5, http://www.w3.org/2006/vcard/ns#postal-code, 02139>\n",
            "Triple: <https://www.w3.org/People/Berners-Lee/card, http://creativecommons.org/ns#license, http://creativecommons.org/licenses/by-nc/3.0/>\n",
            "Triple: <https://www.w3.org/People/Berners-Lee/card#i, http://xmlns.com/foaf/0.1/name, Timothy Berners-Lee>\n",
            "Triple: <n2eca384deedd4a268eddb4a71b557079b5, http://www.w3.org/1999/02/22-rdf-syntax-ns#type, http://www.w3.org/2006/vcard/ns#Work>\n",
            "Triple: <http://dig.csail.mit.edu/breadcrumbs/blog/4, http://xmlns.com/foaf/0.1/maker, https://www.w3.org/People/Berners-Lee/card#i>\n",
            "Triple: <https://www.w3.org/People/Berners-Lee/card#i, http://www.w3.org/ns/pim/space#storage, https://timbl.solid.community/>\n",
            "Triple: <https://www.w3.org/People/Berners-Lee/card#i, http://xmlns.com/foaf/0.1/img, https://www.w3.org/Press/Stock/Berners-Lee/2001-europaeum-eighth.jpg>\n",
            "Triple: <https://www.w3.org/People/Berners-Lee/card#i, http://www.w3.org/ns/pim/space#storage, https://timbl.com/timbl/Public/>\n",
            "Triple: <n2eca384deedd4a268eddb4a71b557079b5, http://www.w3.org/2006/vcard/ns#region, MA>\n",
            "Triple: <http://www.ecs.soton.ac.uk/~dt2/dlstuff/www2006_data#panel-panelk01, http://www.w3.org/2000/01/rdf-schema#label, The Next Wave of the Web (Plenary Panel)>\n",
            "Triple: <n2eca384deedd4a268eddb4a71b557079b1, http://www.w3.org/ns/auth/cert#exponent, 65537>\n",
            "Triple: <n2eca384deedd4a268eddb4a71b557079b3, http://www.w3.org/2000/10/swap/pim/contact#country, USA>\n",
            "Triple: <http://www.w3.org/data#W3C, http://xmlns.com/foaf/0.1/member, https://www.w3.org/People/Berners-Lee/card#i>\n",
            "Triple: <http://dig.csail.mit.edu/breadcrumbs/blog/4, http://purl.org/dc/elements/1.1/title, timbl's blog on DIG>\n",
            "Triple: <https://timbl.com/timbl/Public/friends.ttl, http://xmlns.com/foaf/0.1/maker, https://www.w3.org/People/Berners-Lee/card#i>\n",
            "Triple: <n2eca384deedd4a268eddb4a71b557079b1, http://www.w3.org/1999/02/22-rdf-syntax-ns#type, http://www.w3.org/ns/auth/cert#RSAPublicKey>\n",
            "Triple: <https://timbl.com/timbl/Public/friends.ttl, http://www.w3.org/1999/02/22-rdf-syntax-ns#type, http://xmlns.com/foaf/0.1/PersonalProfileDocument>\n",
            "Triple: <https://www.w3.org/People/Berners-Lee/card#i, http://www.w3.org/ns/pim/space#preferencesFile, https://timbl.com/timbl/Data/preferences.n3>\n",
            "Triple: <http://www.w3.org/2000/10/swap/data#Cwm, http://usefulinc.com/ns/doap#developer, https://www.w3.org/People/Berners-Lee/card#i>\n",
            "Triple: <https://www.w3.org/People/Berners-Lee/card#i, http://www.w3.org/2000/01/rdf-schema#label, Tim Berners-Lee>\n",
            "Triple: <https://www.w3.org/People/Berners-Lee/card#i, http://xmlns.com/foaf/0.1/nick, TimBL>\n",
            "Triple: <https://www.w3.org/People/Berners-Lee/card, http://www.w3.org/1999/02/22-rdf-syntax-ns#type, http://xmlns.com/foaf/0.1/PersonalProfileDocument>\n",
            "Triple: <n2eca384deedd4a268eddb4a71b557079b5, http://www.w3.org/2006/vcard/ns#street-address, 32 Vassar Street>\n",
            "Triple: <https://www.w3.org/People/Berners-Lee/card#i, http://xmlns.com/foaf/0.1/nick, timbl>\n",
            "Triple: <https://www.w3.org/People/Berners-Lee/card#i, http://www.w3.org/2000/10/swap/pim/contact#assistant, https://www.w3.org/People/Berners-Lee/card#amy>\n",
            "Triple: <http://dig.csail.mit.edu/breadcrumbs/blog/4, http://www.w3.org/2000/01/rdf-schema#seeAlso, http://dig.csail.mit.edu/breadcrumbs/blog/feed/4>\n",
            "Triple: <n2eca384deedd4a268eddb4a71b557079b3, http://www.w3.org/2000/10/swap/pim/contact#city, Cambridge>\n",
            "Triple: <http://wiki.ontoworld.org/index.php/_IRW2006, http://purl.org/dc/elements/1.1/title, Identity, Reference and the Web workshop 2006>\n",
            "Triple: <https://www.w3.org/People/Berners-Lee/card#i, http://www.w3.org/2000/10/swap/pim/contact#publicHomePage, https://www.w3.org/People/Berners-Lee/>\n",
            "Triple: <https://www.w3.org/People/Berners-Lee/card#i, http://www.w3.org/ns/pim/space#storage, https://timbl.inrupt.net/>\n",
            "Triple: <https://timbl.com/timbl/Public/friends.ttl, http://creativecommons.org/ns#license, http://creativecommons.org/licenses/by-nc/3.0/>\n",
            "Triple: <https://www.w3.org/People/Berners-Lee/card, http://xmlns.com/foaf/0.1/maker, https://www.w3.org/People/Berners-Lee/card#i>\n",
            "Triple: <https://www.w3.org/People/Berners-Lee/card#i, http://xmlns.com/foaf/0.1/mbox, mailto:timbl@w3.org>\n",
            "Triple: <http://www.w3.org/2011/Talks/0331-hyderabad-tbl/data#talk, http://purl.org/dc/terms/title, Designing the Web for an Open Society>\n",
            "Triple: <http://dig.csail.mit.edu/data#DIG, http://xmlns.com/foaf/0.1/member, https://www.w3.org/People/Berners-Lee/card#i>\n",
            "Triple: <https://www.w3.org/People/Berners-Lee/card#i, http://www.w3.org/2000/10/swap/pim/contact#preferredURI, https://www.w3.org/People/Berners-Lee/card#i>\n",
            "Triple: <https://www.w3.org/People/Berners-Lee/card#i, http://www.w3.org/1999/02/22-rdf-syntax-ns#type, http://www.w3.org/2000/10/swap/pim/contact#Male>\n",
            "Triple: <https://timbl.com/timbl/Public/friends.ttl, http://xmlns.com/foaf/0.1/primaryTopic, https://www.w3.org/People/Berners-Lee/card#i>\n",
            "Triple: <https://www.w3.org/People/Berners-Lee/card#i, http://www.w3.org/ns/solid/terms#publicTypeIndex, https://timbl.com/timbl/Public/PublicTypeIndex.ttl>\n",
            "Triple: <https://www.w3.org/People/Berners-Lee/card#i, http://schema.org/owns, https://timblbot.inrupt.net/profile/card#me>\n",
            "Triple: <n2eca384deedd4a268eddb4a71b557079b6, http://www.w3.org/2003/01/geo/wgs84_pos#long, -71.091840>\n",
            "Triple: <https://www.w3.org/People/Berners-Lee/card#i, http://rdfs.org/sioc/ns#avatar, https://www.w3.org/People/Berners-Lee/images/timbl-image-by-Coz-cropped.jpg>\n",
            "Triple: <https://www.w3.org/People/Berners-Lee/card#i, http://www.w3.org/ns/solid/terms#oidcIssuer, https://timbl.com>\n",
            "Triple: <https://www.w3.org/People/Berners-Lee/card#i, http://www.w3.org/ns/auth/cert#key, n2eca384deedd4a268eddb4a71b557079b1>\n",
            "Triple: <https://www.w3.org/People/Berners-Lee/card#i, http://xmlns.com/foaf/0.1/family_name, Berners-Lee>\n",
            "Triple: <https://www.w3.org/People/Berners-Lee/card#i, http://www.w3.org/ns/solid/terms#editableProfile, https://timbl.com/timbl/Public/friends.ttl>\n",
            "Triple: <https://www.w3.org/People/Berners-Lee/card#i, http://www.w3.org/2000/10/swap/pim/contact#homePage, https://www.w3.org/People/Berners-Lee/>\n",
            "Triple: <https://www.w3.org/People/Berners-Lee/card, http://purl.org/dc/elements/1.1/title, Tim Berners-Lee's FOAF file>\n",
            "Triple: <n2eca384deedd4a268eddb4a71b557079b3, http://www.w3.org/2000/10/swap/pim/contact#street, 32 Vassar Street>\n",
            "Triple: <https://www.w3.org/People/Berners-Lee/card#i, http://xmlns.com/foaf/0.1/account, http://twitter.com/timberners_lee>\n",
            "Triple: <https://www.w3.org/People/Berners-Lee/card#i, http://www.w3.org/2006/vcard/ns#hasAddress, n2eca384deedd4a268eddb4a71b557079b5>\n",
            "Triple: <https://www.w3.org/People/Berners-Lee/card#i, http://www.w3.org/2000/10/swap/pim/contact#office, n2eca384deedd4a268eddb4a71b557079b2>\n",
            "Triple: <https://www.w3.org/DesignIssues/Overview.html, http://xmlns.com/foaf/0.1/maker, https://www.w3.org/People/Berners-Lee/card#i>\n",
            "Triple: <https://www.w3.org/People/Berners-Lee/card, http://xmlns.com/foaf/0.1/primaryTopic, https://www.w3.org/People/Berners-Lee/card#i>\n",
            "Triple: <https://www.w3.org/People/Berners-Lee/card#i, http://xmlns.com/foaf/0.1/weblog, http://dig.csail.mit.edu/breadcrumbs/blog/4>\n",
            "Triple: <n2eca384deedd4a268eddb4a71b557079b2, http://www.w3.org/2000/10/swap/pim/contact#address, n2eca384deedd4a268eddb4a71b557079b3>\n",
            "Triple: <https://www.w3.org/People/Berners-Lee/card#i, http://xmlns.com/foaf/0.1/account, http://en.wikipedia.org/wiki/User:Timbl>\n",
            "Triple: <https://www.w3.org/People/Berners-Lee/card#i, http://xmlns.com/foaf/0.1/mbox_sha1sum, 965c47c5a70db7407210cef6e4e6f5374a525c5c>\n",
            "Triple: <https://www.w3.org/People/Berners-Lee/card#i, http://www.w3.org/1999/02/22-rdf-syntax-ns#type, http://xmlns.com/foaf/0.1/Person>\n",
            "Triple: <n2eca384deedd4a268eddb4a71b557079b6, http://www.w3.org/2003/01/geo/wgs84_pos#lat, 42.361860>\n",
            "Triple: <n2eca384deedd4a268eddb4a71b557079b1, http://www.w3.org/ns/auth/cert#modulus, ebe99c737bd3670239600547e5e2eb1d1497da39947b6576c3c44ffeca32cf0f2f7cbee3c47001278a90fc7fc5bcf292f741eb1fcd6bbe7f90650afb519cf13e81b2bffc6e02063ee5a55781d420b1dfaf61c15758480e66d47fb0dcb5fa7b9f7f1052e5ccbd01beee9553c3b6b51f4daf1fce991294cd09a3d1d636bc6c7656e4455d0aff06daec740ed0084aa6866fcae1359de61cc12dbe37c8fa42e977c6e727a8258bb9a3f265b27e3766fe0697f6aa0bcc81c3f026e387bd7bbc81580dc1853af2daa099186a9f59da526474ef6ec0a3d84cf400be3261b6b649dea1f78184862d34d685d2d587f09acc14cd8e578fdd2283387821296f0af39b8d8845>\n",
            "Triple: <https://www.w3.org/People/Berners-Lee/card#i, http://www.w3.org/ns/solid/terms#profileHighlightColor, #00467E>\n",
            "Triple: <http://dig.csail.mit.edu/2005/ajar/ajaw/data#Tabulator, http://usefulinc.com/ns/doap#developer, https://www.w3.org/People/Berners-Lee/card#i>\n",
            "Triple: <https://www.w3.org/People/Berners-Lee/card#i, http://xmlns.com/foaf/0.1/givenname, Timothy>\n",
            "Triple: <https://www.w3.org/People/Berners-Lee/card#i, http://www.w3.org/ns/ldp#inbox, https://timbl.com/timbl/Public/Inbox>\n",
            "Triple: <https://www.w3.org/People/Berners-Lee/card#i, http://xmlns.com/foaf/0.1/homepage, https://www.w3.org/People/Berners-Lee/>\n",
            "Triple: <https://www.w3.org/People/Berners-Lee/card#i, http://www.w3.org/2006/vcard/ns#fn, Tim Berners-Lee>\n"
          ]
        }
      ]
    }
  ]
}